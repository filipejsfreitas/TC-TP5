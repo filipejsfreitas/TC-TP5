{
 "metadata": {
  "language_info": {
   "codemirror_mode": {
    "name": "ipython",
    "version": 3
   },
   "file_extension": ".py",
   "mimetype": "text/x-python",
   "name": "python",
   "nbconvert_exporter": "python",
   "pygments_lexer": "ipython3",
   "version": "3.8.5-final"
  },
  "orig_nbformat": 2,
  "kernelspec": {
   "name": "python3",
   "display_name": "Python 3",
   "language": "python"
  }
 },
 "nbformat": 4,
 "nbformat_minor": 2,
 "cells": [
  {
   "cell_type": "code",
   "execution_count": 55,
   "metadata": {},
   "outputs": [],
   "source": [
    "from math import gcd, sqrt\n",
    "from functools import reduce"
   ]
  },
  {
   "cell_type": "code",
   "execution_count": 56,
   "metadata": {},
   "outputs": [
    {
     "output_type": "stream",
     "name": "stdout",
     "text": [
      "[6876, 90542, 209524, 180723, 68349, 24407, 1927, 183075, 37458, 77446, 197372, 14551, 148450, 213237, 55592, 56745, 15085, 103645, 154406, 67322, 2002, 39417, 127400, 178722, 76999, 37458, 79735, 198950, 161111, 69856, 142050, 22632, 39091, 16950, 168529, 162080, 83943, 72950, 24407, 207238, 18354, 38021, 186689, 59975, 125376, 161647, 195221, 44657, 48754, 96701, 72273, 108266, 209524, 16077, 112276, 69856, 142050, 22632, 84465, 162080, 36730, 27249, 34758, 79735, 200474, 186981, 99905, 81699, 56760, 56967, 151769, 67608, 137974, 76557, 187031, 103901, 128885, 148040, 128883, 54852, 166919, 168279, 44550, 19456, 80788, 141636, 159372, 90688, 35758, 168747, 142924, 190769, 174948, 2791, 69856, 142050, 22632, 84465, 162080, 157426, 59221, 65034, 158258, 128733, 108251, 11016, 3376, 31144, 79735, 162990, 200008, 141687, 136850, 22342, 196127, 117300, 100284, 64381, 36124, 93455, 97454, 158631, 60424, 91786, 209412, 57924, 183075, 101801, 55880, 56760, 68019, 164064, 2791, 37458, 209662, 188390, 68954, 169696, 168434, 115729, 156200, 52926, 73555, 193991, 37458, 12591, 64130, 61216, 79735, 132216, 194613, 167517, 196127, 84228, 57242, 122520, 123552, 103901, 176508, 43547, 145243, 69650, 209524, 202257, 99142, 51498, 162203, 117210, 127989, 102955, 77762, 24166, 147550]\n"
     ]
    }
   ],
   "source": [
    "f = open('ciphertext.txt', 'r', encoding='UTF-8')\n",
    "lines = f.readlines()\n",
    "# Do some basic preprocessing:\n",
    "# Get all lines, split by \",\", strip extra spaces, and remove empty strings that result from splitting\n",
    "# In the end, convert every string into a number\n",
    "numbers = [int(x.strip()) for line in lines for x in line.split(',') if len(x.strip()) > 0] \n",
    "f.close()\n",
    "\n",
    "print(numbers)"
   ]
  },
  {
   "cell_type": "code",
   "execution_count": 57,
   "metadata": {},
   "outputs": [],
   "source": [
    "def convert_to_plaintext(numbers):\n",
    "    # Dados blocos de texto (na forma de um inteiro 27 * 27 * L1 + 27 * L2 + L3), conveter esses blocos para texto limpo\n",
    "    plaintext = ''\n",
    "\n",
    "    for d in numbers:\n",
    "        a = chr(ord('A') + d // (27 ** 2))\n",
    "        b = chr(ord('A') + (d % (27 ** 2)) // 27)\n",
    "        c = chr(ord('A') + (d % (27 ** 2)) % 27)\n",
    "\n",
    "        if a == '[':\n",
    "            a = ' '\n",
    "        if b == '[':\n",
    "            b = ' '\n",
    "        if c == '[':\n",
    "            c = ' '\n",
    "\n",
    "        plaintext += a + b + c\n",
    "    \n",
    "    return plaintext"
   ]
  },
  {
   "cell_type": "code",
   "execution_count": 58,
   "metadata": {},
   "outputs": [],
   "source": [
    "def rsa(numbers, n, e):\n",
    "    # Aplicação do RSA:\n",
    "    # Exponenciação modular utilizando as funções nativas do Python\n",
    "    result = []\n",
    "\n",
    "    for x in numbers:\n",
    "        result.append(pow(x, e, n))\n",
    "    \n",
    "    return result"
   ]
  },
  {
   "cell_type": "code",
   "execution_count": 59,
   "metadata": {},
   "outputs": [],
   "source": [
    "def egcd(a, b):\n",
    "    if a == 0:\n",
    "        return (b, 0, 1)\n",
    "    \n",
    "    g, y, x = egcd(b % a, a)\n",
    "\n",
    "    return (g, x - (b // a) * y, y)\n",
    "\n",
    "def modinv(a, m):\n",
    "    g, x, y = egcd(a, m)\n",
    "\n",
    "    if g != 1:\n",
    "        raise Exception('modular inverse does not exist')\n",
    "    \n",
    "    # egcd(a, m) returns: gcd(a,b), and also the x, y factors for the diophantine equation ax + my = g\n",
    "    # That means that x % m is the modular inverse of a mod m\n",
    "    return x % m"
   ]
  },
  {
   "cell_type": "code",
   "execution_count": 60,
   "metadata": {},
   "outputs": [],
   "source": [
    "e = 17\n",
    "n = 213271"
   ]
  },
  {
   "cell_type": "code",
   "execution_count": 61,
   "metadata": {},
   "outputs": [
    {
     "output_type": "execute_result",
     "data": {
      "text/plain": [
       "(419, 509, 213271, 213271)"
      ]
     },
     "metadata": {},
     "execution_count": 61
    }
   ],
   "source": [
    "# Let's just find p and q right here.\n",
    "p, q = None, None\n",
    "\n",
    "for x in range(2, n):\n",
    "    if n % x == 0:\n",
    "        p = x\n",
    "        break\n",
    "\n",
    "q = n // p\n",
    "\n",
    "p, q, p * q, n"
   ]
  },
  {
   "cell_type": "code",
   "execution_count": 62,
   "metadata": {},
   "outputs": [],
   "source": [
    "totient_n = (p-1) * (q-1)"
   ]
  },
  {
   "cell_type": "code",
   "execution_count": 63,
   "metadata": {},
   "outputs": [
    {
     "output_type": "execute_result",
     "data": {
      "text/plain": [
       "1"
      ]
     },
     "metadata": {},
     "execution_count": 63
    }
   ],
   "source": [
    "gcd(e, totient_n)"
   ]
  },
  {
   "cell_type": "code",
   "execution_count": 64,
   "metadata": {},
   "outputs": [],
   "source": [
    "# Compute d\n",
    "# d = e^-1 (mod n)\n",
    "\n",
    "d = modinv(e, totient_n)"
   ]
  },
  {
   "cell_type": "code",
   "execution_count": 65,
   "metadata": {},
   "outputs": [
    {
     "output_type": "execute_result",
     "data": {
      "text/plain": [
       "(74945, 74945)"
      ]
     },
     "metadata": {},
     "execution_count": 65
    }
   ],
   "source": [
    "d, pow(e, -1, totient_n)"
   ]
  },
  {
   "cell_type": "code",
   "execution_count": 66,
   "metadata": {},
   "outputs": [],
   "source": [
    "# encrypt_rsa(numbers, n, e)\n",
    "decrypted_numbers = rsa(numbers, n, d)"
   ]
  },
  {
   "cell_type": "code",
   "execution_count": 67,
   "metadata": {},
   "outputs": [
    {
     "output_type": "execute_result",
     "data": {
      "text/plain": [
       "'LET US THEREFORE PERMIT THESE NEW HYPOTHESES TO BECOME KNOWN TOGETHER WITH THE ANCIENT HYPOTHESES WHICH ARE NO MORE PROBABLE LET US DO SO ESPECIALLY BECAUSE THE NEW HYPOTHESES ARE ADMIRABLE AND ALSO SIMPLE AND BRING WITH THEM A HUGE TREASURY OF VERY SKILLFUL OBSERVATIONS SO FAR AS HYPOTHESES ARE CONCERNED LET NO ONE EXPECT ANYTHING CERTAIN FROM ASTRONOMY WHICH CANNOT FURNISH IT LEST HE ACCEPT AS THE TRUTH IDEAS CONCEIVED FOR ANOTHER PURPOSE AND DEPART FROM THIS STUDY A GREATER FOOL THAN WHEN HE ENTERED IT FAREWELL'"
      ]
     },
     "metadata": {},
     "execution_count": 67
    }
   ],
   "source": [
    "convert_to_plaintext(decrypted_numbers)"
   ]
  },
  {
   "cell_type": "code",
   "execution_count": null,
   "metadata": {},
   "outputs": [],
   "source": []
  },
  {
   "cell_type": "code",
   "execution_count": null,
   "metadata": {},
   "outputs": [],
   "source": []
  },
  {
   "cell_type": "code",
   "execution_count": null,
   "metadata": {},
   "outputs": [],
   "source": []
  }
 ]
}